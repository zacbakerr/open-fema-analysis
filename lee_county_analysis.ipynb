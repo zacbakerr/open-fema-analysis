{
 "cells": [
  {
   "cell_type": "code",
   "execution_count": 82,
   "id": "48306ce9-42a8-43b6-8021-9c5de93dd462",
   "metadata": {},
   "outputs": [],
   "source": [
    "import pandas as pd\n",
    "import numpy as np\n",
    "\n",
    "from pyincore import IncoreClient\n",
    "from pyincore.analyses.socialvulnerability import SocialVulnerability\n",
    "from pyincore_data.censusutil import CensusUtil\n",
    "from pyincore import Dataset"
   ]
  },
  {
   "cell_type": "code",
   "execution_count": 83,
   "id": "f2453cde-8a19-4bc5-a614-3289e68c6ec4",
   "metadata": {},
   "outputs": [
    {
     "name": "stdout",
     "output_type": "stream",
     "text": [
      "Connection successful to IN-CORE services. pyIncore version detected: 1.14.0\n"
     ]
    }
   ],
   "source": [
    "client = IncoreClient()"
   ]
  },
  {
   "cell_type": "code",
   "execution_count": 84,
   "id": "78ad904e-1da7-4dda-9159-e4ceb9cc6a34",
   "metadata": {},
   "outputs": [],
   "source": [
    "state = \"florida\"\n",
    "county = \"lee\"\n",
    "year = 2022"
   ]
  },
  {
   "cell_type": "code",
   "execution_count": 85,
   "id": "2cfe0fca-904d-4139-aad8-0db461d04899",
   "metadata": {},
   "outputs": [
    {
     "data": {
      "text/plain": [
       "'12071'"
      ]
     },
     "execution_count": 85,
     "metadata": {},
     "output_type": "execute_result"
    }
   ],
   "source": [
    "# get fips code to use fetch census data\n",
    "fips = CensusUtil.get_fips_by_state_county(state=state, county=county)\n",
    "state_code = fips[:2]\n",
    "county_code = fips[2:]\n",
    "fips"
   ]
  },
  {
   "cell_type": "code",
   "execution_count": 95,
   "id": "0dc6ed4d-5f2e-47d3-8c12-65f69803b937",
   "metadata": {},
   "outputs": [],
   "source": [
    "def demographic_factors(state_number, county_number, year, geo_type=\"tract:*\"):\n",
    "\n",
    "    api_json_1, df_1, ds_1 = CensusUtil.get_census_data(state=state_code, county=county_code, year=year,\n",
    "                                                              data_source=\"acs/acs5\",\n",
    "                                                              columns=\"GEO_ID,B03002_001E,B03002_003E\",\n",
    "                                                              geo_type=geo_type)\n",
    "    df_1[\"factor_white_nonHispanic\"] = df_1[[\"B03002_001E\",\"B03002_003E\"]].astype(int).apply(lambda row: row[\"B03002_003E\"]/row[\"B03002_001E\"] if row[\"B03002_001E\"] != 0 else 999, axis = 1)\n",
    "\n",
    "    api_json_2, df_2, ds_2 = CensusUtil.get_census_data(state=state_code, county=county_code, year=year,\n",
    "                                                  data_source=\"acs/acs5\",\n",
    "                                                  columns=\"B25003_001E,B25003_002E\",\n",
    "                                                  geo_type=geo_type)\n",
    "    df_2[\"factor_owner_occupied\"] = df_2.astype(int).apply(lambda row: row[\"B25003_002E\"]/row[\"B25003_001E\"] if row[\"B25003_001E\"] != 0 else 999, axis = 1)\n",
    "    \n",
    "    api_json_3, df_3, ds_3 = CensusUtil.get_census_data(state=state_code, \n",
    "                                         county=county_code, \n",
    "                                         year=year,\n",
    "                                         data_source=\"acs/acs5\",\n",
    "                                         columns=\"B17021_001E,B17021_002E\",\n",
    "                                         geo_type=geo_type)\n",
    "    df_3[\"factor_earning_higher_than_national_poverty_rate\"] = df_3.astype(int).apply(lambda row: 1-row[\"B17021_002E\"]/row[\"B17021_001E\"] if row[\"B17021_001E\"] != 0 else 999, axis = 1)\n",
    "    \n",
    "    api_json_4, df_4, ds_4 = CensusUtil.get_census_data(state=state_code, \n",
    "                                         county=county_code, \n",
    "                                         year=year,\n",
    "                                         data_source=\"acs/acs5\", \n",
    "                                         columns=\"B15003_001E,B15003_017E,B15003_018E,B15003_019E,B15003_020E,B15003_021E,B15003_022E,B15003_023E,B15003_024E,B15003_025E\",\n",
    "                                         geo_type=geo_type)\n",
    "    df_4[\"factor_over_25_with_high_school_diploma_or_higher\"] = df_4.astype(int).apply(lambda row: (row[\"B15003_017E\"] \n",
    "                                                                                                    + row[\"B15003_018E\"] \n",
    "                                                                                                    + row[\"B15003_019E\"] \n",
    "                                                                                                    + row[\"B15003_020E\"] \n",
    "                                                                                                    + row[\"B15003_021E\"] \n",
    "                                                                                                    + row[\"B15003_022E\"] \n",
    "                                                                                                    + row[\"B15003_023E\"] \n",
    "                                                                                                    + row[\"B15003_024E\"] \n",
    "                                                                                                    + row[\"B15003_025E\"])/row[\"B15003_001E\"] if row[\"B15003_001E\"] != 0 else 999, axis = 1)\n",
    "\n",
    "    if geo_type == 'tract:*':\n",
    "        api_json_5, df_5, ds_5 = CensusUtil.get_census_data(state=state_code, \n",
    "                                             county=county_code, \n",
    "                                             year=year,\n",
    "                                             data_source=\"acs/acs5\",\n",
    "                                             columns=\"B18101_001E,B18101_011E,B18101_014E,B18101_030E,B18101_033E\",\n",
    "                                             geo_type=geo_type)\n",
    "        df_5[\"factor_without_disability_age_18_to_65\"] = df_5.astype(int).apply(lambda row: (row[\"B18101_011E\"] + row[\"B18101_014E\"] + row[\"B18101_030E\"] + row[\"B18101_033E\"])/row[\"B18101_001E\"] if row[\"B18101_001E\"] != 0 else 999, axis = 1)\n",
    "    \n",
    "    elif geo_type == 'block%20group:*':\n",
    "        api_json_5, df_5, ds_5 = CensusUtil.get_census_data(state=state_code, \n",
    "                                             county=county_code, \n",
    "                                             year=year,\n",
    "                                             data_source=\"acs/acs5\",\n",
    "                                             columns=\"B01003_001E,C21007_006E,C21007_009E,C21007_013E,C21007_016E\",\n",
    "                                             geo_type=geo_type)\n",
    "\n",
    "        df_5['factor_without_disability_age_18_to_65'] = df_5.astype(int).apply(lambda row: (row['C21007_006E']+\n",
    "                                                                                 row['C21007_006E']+\n",
    "                                                                                 row['C21007_009E']+\n",
    "                                                                                 row['C21007_013E'])\n",
    "                                                                                /row['C21007_016E'] if row[\"C21007_016E\"] != 0 else 999, axis = 1)\n",
    "\n",
    "    df_t = pd.concat([df_1[[\"GEO_ID\",\"factor_white_nonHispanic\"]],\n",
    "                      df_2[\"factor_owner_occupied\"],\n",
    "                      df_3[\"factor_earning_higher_than_national_poverty_rate\"], \n",
    "                      df_4[\"factor_over_25_with_high_school_diploma_or_higher\"],\n",
    "                      df_5[\"factor_without_disability_age_18_to_65\"]], \n",
    "                     axis=1, join='inner')\n",
    "    \n",
    "    # extract FIPS from geo id\n",
    "    df_t[\"FIPS\"] = df_t.apply(lambda row: row[\"GEO_ID\"].split(\"US\")[1], axis = 1)\n",
    "        \n",
    "    return df_t"
   ]
  },
  {
   "cell_type": "code",
   "execution_count": 87,
   "id": "03987d47-57a0-4584-9b35-0eb9bca8c502",
   "metadata": {},
   "outputs": [],
   "source": [
    "def national_ave_values (year, data_source=\"acs/acs5\"):\n",
    "    api_json_1, nav1, ds_1 = CensusUtil.get_census_data(state=\"*\", county=None, year=year, data_source=data_source,\n",
    "                             columns=\"B03002_001E,B03002_003E\",geo_type=None)\n",
    "    nav1 = nav1.astype(int)\n",
    "    nav1_avg ={\"feature\": \"NAV-1: White, nonHispanic\", \n",
    "                \"average\": nav1['B03002_003E'].sum()/ nav1['B03002_001E'].sum()}\n",
    "\n",
    "    api_json_2, nav2, ds_2 = CensusUtil.get_census_data(state=\"*\", county=None, year=year, data_source=data_source,\n",
    "                             columns=\"B25003_001E,B25003_002E\",geo_type=None)\n",
    "    nav2 = nav2.astype(int)\n",
    "    nav2_avg = {\"feature\": \"NAV-2: Home Owners\", \n",
    "                \"average\": nav2['B25003_002E'].sum()/nav2['B25003_001E'].sum()}\n",
    "\n",
    "    api_json_3, nav3, ds_3 = CensusUtil.get_census_data(state=\"*\", county=None, year=year, data_source=data_source,\n",
    "                             columns=\"B17021_001E,B17021_002E\",geo_type=None)\n",
    "    nav3 = nav3.astype(int)\n",
    "    nav3_avg = {\"feature\": \"NAV-3: earning higher than national poverty rate\", \n",
    "                \"average\": 1-nav3['B17021_002E'].sum()/nav3['B17021_001E'].sum()}\n",
    "\n",
    "    api_json_4, nav4, ds_4 = CensusUtil.get_census_data(state=\"*\", \n",
    "                                         county=None, \n",
    "                                         year=year,\n",
    "                                         data_source=\"acs/acs5\",\n",
    "                                         columns=\"B15003_001E,B15003_017E,B15003_018E,B15003_019E,B15003_020E,B15003_021E,B15003_022E,B15003_023E,B15003_024E,B15003_025E\",\n",
    "                                         geo_type=None)\n",
    "    nav4 = nav4.astype(int)\n",
    "    nav4['temp'] = nav4.apply(lambda row: row['B15003_017E']+row['B15003_018E']+row['B15003_019E']+\n",
    "                              row['B15003_020E']+row['B15003_021E']+row['B15003_022E']+row['B15003_023E']+\n",
    "                              row['B15003_024E']+row['B15003_025E'], axis = 1)\n",
    "    nav4_avg = {\"feature\": 'NAV-4: over 25 with high school diploma or higher', \n",
    "                \"average\": nav4['temp'].sum()/nav4['B15003_001E'].sum()}\n",
    "\n",
    "    api_json_5, nav5, ds_5 = CensusUtil.get_census_data(state=\"*\", county=None, year=year, data_source=data_source,\n",
    "                             columns=\"B18101_001E,B18101_011E,B18101_014E,B18101_030E,B18101_033E\",\n",
    "                                         geo_type=None)\n",
    "    nav5 = nav5.astype(int)\n",
    "    nav5['temp'] = nav5.apply(lambda row: row['B18101_011E']+row['B18101_014E']+row['B18101_030E']+row['B18101_033E'], axis = 1)\n",
    "    nav5_avg = {\"feature\": 'NAV-5: without disability age 18 to 65', \n",
    "                \"average\": nav5[\"temp\"].sum()/nav5[\"B18101_001E\"].sum()}\n",
    "    \n",
    "    navs = [nav1_avg, nav2_avg, nav3_avg, nav4_avg, nav5_avg]\n",
    "    \n",
    "    return navs"
   ]
  },
  {
   "cell_type": "code",
   "execution_count": 88,
   "id": "5767cb42-9657-44e5-b162-ace13110f079",
   "metadata": {},
   "outputs": [
    {
     "name": "stdout",
     "output_type": "stream",
     "text": [
      "csv saved as api_20240521-184638.csv\n",
      "csv saved as api_20240521-184639.csv\n",
      "csv saved as api_20240521-184640.csv\n",
      "csv saved as api_20240521-184641.csv\n",
      "csv saved as api_20240521-184642.csv\n"
     ]
    }
   ],
   "source": [
    "navs = national_ave_values(year=2022)\n",
    "national_vulnerability_feature_averages = Dataset.from_csv_data(navs, name=\"national_vulnerability_feature_averages.csv\",\n",
    "                                                                 data_type=\"incore:socialVulnerabilityFeatureAverages\")"
   ]
  },
  {
   "cell_type": "code",
   "execution_count": 96,
   "id": "f1d879e7-3ff9-4895-acaa-466bf7e6f15d",
   "metadata": {},
   "outputs": [
    {
     "name": "stdout",
     "output_type": "stream",
     "text": [
      "csv saved as api_20240521-184854.csv\n",
      "csv saved as api_20240521-184855.csv\n",
      "csv saved as api_20240521-184856.csv\n",
      "csv saved as api_20240521-184857.csv\n",
      "csv saved as api_20240521-184859.csv\n"
     ]
    }
   ],
   "source": [
    "geo_type = \"tract:*\"\n",
    "social_vunlnerability_dem_factors_df = demographic_factors(state_code, county_code, year=2022, geo_type=geo_type)\n",
    "social_vunlnerability_dem_factors = Dataset.from_dataframe(social_vunlnerability_dem_factors_df, \n",
    "                                                           name=\"social_vunlnerability_dem_factors\",\n",
    "                                                           data_type=\"incore:socialVulnerabilityDemFactors\")"
   ]
  },
  {
   "cell_type": "code",
   "execution_count": 97,
   "id": "4e19ebf6-0477-4e34-b602-f37e6c099201",
   "metadata": {},
   "outputs": [
    {
     "name": "stdout",
     "output_type": "stream",
     "text": [
      "Connection successful to IN-CORE services. pyIncore version detected: 1.14.0\n"
     ]
    },
    {
     "data": {
      "text/plain": [
       "True"
      ]
     },
     "execution_count": 97,
     "metadata": {},
     "output_type": "execute_result"
    }
   ],
   "source": [
    "# Configure pyincore access and the analysis with the information above\n",
    "\n",
    "client = IncoreClient()\n",
    "social_vulnerability = SocialVulnerability(client)\n",
    "\n",
    "social_vulnerability.set_parameter(\"result_name\", \"social_vulnerabilty\")\n",
    "social_vulnerability.set_input_dataset(\"national_vulnerability_feature_averages\", national_vulnerability_feature_averages)\n",
    "social_vulnerability.set_input_dataset(\"social_vulnerability_demographic_factors\", social_vunlnerability_dem_factors)"
   ]
  },
  {
   "cell_type": "code",
   "execution_count": 98,
   "id": "faeb30b7-46fb-46b6-9b9b-0802312b0b1a",
   "metadata": {},
   "outputs": [],
   "source": [
    "# Run social vulnerability damage analysis\n",
    "result = social_vulnerability.run_analysis()"
   ]
  },
  {
   "cell_type": "code",
   "execution_count": 99,
   "id": "f9606c0a-595d-4bf3-9bb9-de7405eae40b",
   "metadata": {},
   "outputs": [
    {
     "data": {
      "text/html": [
       "<div>\n",
       "<style scoped>\n",
       "    .dataframe tbody tr th:only-of-type {\n",
       "        vertical-align: middle;\n",
       "    }\n",
       "\n",
       "    .dataframe tbody tr th {\n",
       "        vertical-align: top;\n",
       "    }\n",
       "\n",
       "    .dataframe thead th {\n",
       "        text-align: right;\n",
       "    }\n",
       "</style>\n",
       "<table border=\"1\" class=\"dataframe\">\n",
       "  <thead>\n",
       "    <tr style=\"text-align: right;\">\n",
       "      <th></th>\n",
       "      <th>GEO_ID</th>\n",
       "      <th>factor_white_nonHispanic</th>\n",
       "      <th>factor_owner_occupied</th>\n",
       "      <th>factor_earning_higher_than_national_poverty_rate</th>\n",
       "      <th>factor_over_25_with_high_school_diploma_or_higher</th>\n",
       "      <th>factor_without_disability_age_18_to_65</th>\n",
       "      <th>FIPS</th>\n",
       "      <th>R1</th>\n",
       "      <th>R2</th>\n",
       "      <th>R3</th>\n",
       "      <th>R4</th>\n",
       "      <th>R5</th>\n",
       "      <th>SVS</th>\n",
       "      <th>zone</th>\n",
       "    </tr>\n",
       "  </thead>\n",
       "  <tbody>\n",
       "    <tr>\n",
       "      <th>0</th>\n",
       "      <td>1400000US12071000303</td>\n",
       "      <td>0.304398</td>\n",
       "      <td>0.622924</td>\n",
       "      <td>0.794084</td>\n",
       "      <td>0.671244</td>\n",
       "      <td>0.546007</td>\n",
       "      <td>12071000303</td>\n",
       "      <td>0.522188</td>\n",
       "      <td>0.960599</td>\n",
       "      <td>0.910952</td>\n",
       "      <td>0.753846</td>\n",
       "      <td>0.996831</td>\n",
       "      <td>0.828883</td>\n",
       "      <td>Medium to High Vulnerable (zone4)</td>\n",
       "    </tr>\n",
       "    <tr>\n",
       "      <th>1</th>\n",
       "      <td>1400000US12071000304</td>\n",
       "      <td>0.721519</td>\n",
       "      <td>0.324147</td>\n",
       "      <td>0.931284</td>\n",
       "      <td>0.923497</td>\n",
       "      <td>0.677517</td>\n",
       "      <td>12071000304</td>\n",
       "      <td>1.237750</td>\n",
       "      <td>0.499861</td>\n",
       "      <td>1.068345</td>\n",
       "      <td>1.037141</td>\n",
       "      <td>1.236924</td>\n",
       "      <td>1.016004</td>\n",
       "      <td>Medium Vulnerable (zone3)</td>\n",
       "    </tr>\n",
       "    <tr>\n",
       "      <th>2</th>\n",
       "      <td>1400000US12071000305</td>\n",
       "      <td>0.080253</td>\n",
       "      <td>0.329201</td>\n",
       "      <td>0.800422</td>\n",
       "      <td>0.691824</td>\n",
       "      <td>0.591341</td>\n",
       "      <td>12071000305</td>\n",
       "      <td>0.137673</td>\n",
       "      <td>0.507655</td>\n",
       "      <td>0.918224</td>\n",
       "      <td>0.776958</td>\n",
       "      <td>1.079596</td>\n",
       "      <td>0.684021</td>\n",
       "      <td>High Vulnerable (zone5)</td>\n",
       "    </tr>\n",
       "    <tr>\n",
       "      <th>3</th>\n",
       "      <td>1400000US12071000306</td>\n",
       "      <td>0.203542</td>\n",
       "      <td>0.294118</td>\n",
       "      <td>0.759348</td>\n",
       "      <td>0.573745</td>\n",
       "      <td>0.651392</td>\n",
       "      <td>12071000306</td>\n",
       "      <td>0.349172</td>\n",
       "      <td>0.453553</td>\n",
       "      <td>0.871104</td>\n",
       "      <td>0.644349</td>\n",
       "      <td>1.189229</td>\n",
       "      <td>0.701481</td>\n",
       "      <td>High Vulnerable (zone5)</td>\n",
       "    </tr>\n",
       "    <tr>\n",
       "      <th>4</th>\n",
       "      <td>1400000US12071000401</td>\n",
       "      <td>0.344257</td>\n",
       "      <td>0.651111</td>\n",
       "      <td>0.899662</td>\n",
       "      <td>0.656484</td>\n",
       "      <td>0.588814</td>\n",
       "      <td>12071000401</td>\n",
       "      <td>0.590565</td>\n",
       "      <td>1.004066</td>\n",
       "      <td>1.032069</td>\n",
       "      <td>0.737270</td>\n",
       "      <td>1.074981</td>\n",
       "      <td>0.887790</td>\n",
       "      <td>Medium to High Vulnerable (zone4)</td>\n",
       "    </tr>\n",
       "  </tbody>\n",
       "</table>\n",
       "</div>"
      ],
      "text/plain": [
       "                 GEO_ID  factor_white_nonHispanic  factor_owner_occupied  \\\n",
       "0  1400000US12071000303                  0.304398               0.622924   \n",
       "1  1400000US12071000304                  0.721519               0.324147   \n",
       "2  1400000US12071000305                  0.080253               0.329201   \n",
       "3  1400000US12071000306                  0.203542               0.294118   \n",
       "4  1400000US12071000401                  0.344257               0.651111   \n",
       "\n",
       "   factor_earning_higher_than_national_poverty_rate  \\\n",
       "0                                          0.794084   \n",
       "1                                          0.931284   \n",
       "2                                          0.800422   \n",
       "3                                          0.759348   \n",
       "4                                          0.899662   \n",
       "\n",
       "   factor_over_25_with_high_school_diploma_or_higher  \\\n",
       "0                                           0.671244   \n",
       "1                                           0.923497   \n",
       "2                                           0.691824   \n",
       "3                                           0.573745   \n",
       "4                                           0.656484   \n",
       "\n",
       "   factor_without_disability_age_18_to_65         FIPS        R1        R2  \\\n",
       "0                                0.546007  12071000303  0.522188  0.960599   \n",
       "1                                0.677517  12071000304  1.237750  0.499861   \n",
       "2                                0.591341  12071000305  0.137673  0.507655   \n",
       "3                                0.651392  12071000306  0.349172  0.453553   \n",
       "4                                0.588814  12071000401  0.590565  1.004066   \n",
       "\n",
       "         R3        R4        R5       SVS                               zone  \n",
       "0  0.910952  0.753846  0.996831  0.828883  Medium to High Vulnerable (zone4)  \n",
       "1  1.068345  1.037141  1.236924  1.016004          Medium Vulnerable (zone3)  \n",
       "2  0.918224  0.776958  1.079596  0.684021            High Vulnerable (zone5)  \n",
       "3  0.871104  0.644349  1.189229  0.701481            High Vulnerable (zone5)  \n",
       "4  1.032069  0.737270  1.074981  0.887790  Medium to High Vulnerable (zone4)  "
      ]
     },
     "execution_count": 99,
     "metadata": {},
     "output_type": "execute_result"
    }
   ],
   "source": [
    "# Retrieve result dataset\n",
    "result = social_vulnerability.get_output_dataset(\"sv_result\")\n",
    "\n",
    "# Convert dataset to Pandas DataFrame\n",
    "df = result.get_dataframe_from_csv()\n",
    "\n",
    "# Display top 5 rows of output data\n",
    "df.head()"
   ]
  },
  {
   "cell_type": "code",
   "execution_count": null,
   "id": "561bb88a-3dd1-483b-b26d-ff57e7246e92",
   "metadata": {},
   "outputs": [],
   "source": []
  }
 ],
 "metadata": {
  "kernelspec": {
   "display_name": "Python 3 (ipykernel)",
   "language": "python",
   "name": "python3"
  },
  "language_info": {
   "codemirror_mode": {
    "name": "ipython",
    "version": 3
   },
   "file_extension": ".py",
   "mimetype": "text/x-python",
   "name": "python",
   "nbconvert_exporter": "python",
   "pygments_lexer": "ipython3",
   "version": "3.9.19"
  }
 },
 "nbformat": 4,
 "nbformat_minor": 5
}
